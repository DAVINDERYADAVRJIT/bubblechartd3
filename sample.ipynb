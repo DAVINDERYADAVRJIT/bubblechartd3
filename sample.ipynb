{
 "cells": [
  {
   "cell_type": "code",
   "execution_count": null,
   "metadata": {},
   "outputs": [
    {
     "name": "stdout",
     "output_type": "stream",
     "text": [
      "             datetime  sample_id  state\n",
      "0   05-31-23 17-41-19         57      3\n",
      "1   06-11-23 08-20-52         94      3\n",
      "2   05-30-23 10-40-37         67      3\n",
      "3   05-31-23 07-40-01         74      3\n",
      "4   05-24-23 13-35-37         54      2\n",
      "..                ...        ...    ...\n",
      "95  06-13-23 17-52-03         24      7\n",
      "96  05-24-23 15-22-59         91      9\n",
      "97  06-12-23 18-37-21         80      8\n",
      "98  06-15-23 09-53-53         78     10\n",
      "99  05-29-23 00-12-13         57      5\n",
      "\n",
      "[100 rows x 3 columns]\n"
     ]
    }
   ],
   "source": [
    "import pandas as pd\n",
    "import random\n",
    "from datetime import timedelta, datetime\n",
    "\n",
    "# Set the number of rows in the data frame\n",
    "num_rows = 100\n",
    "\n",
    "# Generate random dates within a one-month range\n",
    "start_date = datetime.now() - timedelta(days=30)\n",
    "end_date = datetime.now()\n",
    "\n",
    "dates = [\n",
    "    (start_date + timedelta(days=random.randint(0, 30),\n",
    "                            hours=random.randint(0, 23),\n",
    "                            minutes=random.randint(0, 59),\n",
    "                            seconds=random.randint(0, 59))).strftime(\"%m-%d-%y %H-%M-%S\")\n",
    "    for _ in range(num_rows)\n",
    "]\n",
    "\n",
    "# Generate random sample IDs between 1 and 100\n",
    "sample_ids = [random.randint(1, 100) for _ in range(num_rows)]\n",
    "\n",
    "# Generate random states between 1 and 10\n",
    "states = [random.randint(1, 10) for _ in range(num_rows)]\n",
    "\n",
    "# Create the data frame\n",
    "data = {\"datetime\": dates, \"sample_id\": sample_ids, \"state\": states}\n",
    "df = pd.DataFrame(data)\n",
    "\n",
    "# Print the data frame\n",
    "print(df)"
   ]
  },
  {
   "cell_type": "code",
   "execution_count": null,
   "metadata": {},
   "outputs": [
    {
     "name": "stderr",
     "output_type": "stream",
     "text": [
      "[d3blocks] >INFO> Cleaning edge_properties and config parameters..\n",
      "c:\\Users\\davin\\anaconda3\\envs\\d3\\lib\\site-packages\\d3blocks\\movingbubbles\\Movingbubbles.py:576: UserWarning: Parsing dates in %d-%m-%Y %H:%M:%S format when dayfirst=False (the default) was specified. Pass `dayfirst=True` or specify a format to silence this warning.\n",
      "  df['datetime'] = pd.to_datetime(df['datetime'])\n"
     ]
    }
   ],
   "source": [
    "# Import library\n",
    "from d3blocks import D3Blocks\n",
    "\n",
    "# Initialize\n",
    "d3 = D3Blocks()\n",
    "\n",
    "# Import example\n",
    "df = d3.import_example(data='random_time', n=10000, c=500, date_start=\"01-01-2000 00:10:05\", date_stop=\"01-02-2000 23:59:59\")\n"
   ]
  },
  {
   "cell_type": "code",
   "execution_count": 4,
   "metadata": {},
   "outputs": [
    {
     "data": {
      "text/html": [
       "<div>\n",
       "<style scoped>\n",
       "    .dataframe tbody tr th:only-of-type {\n",
       "        vertical-align: middle;\n",
       "    }\n",
       "\n",
       "    .dataframe tbody tr th {\n",
       "        vertical-align: top;\n",
       "    }\n",
       "\n",
       "    .dataframe thead th {\n",
       "        text-align: right;\n",
       "    }\n",
       "</style>\n",
       "<table border=\"1\" class=\"dataframe\">\n",
       "  <thead>\n",
       "    <tr style=\"text-align: right;\">\n",
       "      <th></th>\n",
       "      <th>datetime</th>\n",
       "      <th>sample_id</th>\n",
       "      <th>state</th>\n",
       "    </tr>\n",
       "  </thead>\n",
       "  <tbody>\n",
       "    <tr>\n",
       "      <th>0</th>\n",
       "      <td>2000-01-01 00:10:42</td>\n",
       "      <td>442</td>\n",
       "      <td>Sport</td>\n",
       "    </tr>\n",
       "    <tr>\n",
       "      <th>1</th>\n",
       "      <td>2000-01-01 00:10:51</td>\n",
       "      <td>351</td>\n",
       "      <td>Sleeping</td>\n",
       "    </tr>\n",
       "    <tr>\n",
       "      <th>2</th>\n",
       "      <td>2000-01-01 00:11:42</td>\n",
       "      <td>449</td>\n",
       "      <td>Bored</td>\n",
       "    </tr>\n",
       "    <tr>\n",
       "      <th>3</th>\n",
       "      <td>2000-01-01 01:22:34</td>\n",
       "      <td>377</td>\n",
       "      <td>Sleeping</td>\n",
       "    </tr>\n",
       "    <tr>\n",
       "      <th>4</th>\n",
       "      <td>2000-01-01 01:32:01</td>\n",
       "      <td>361</td>\n",
       "      <td>Sick</td>\n",
       "    </tr>\n",
       "  </tbody>\n",
       "</table>\n",
       "</div>"
      ],
      "text/plain": [
       "             datetime sample_id     state\n",
       "0 2000-01-01 00:10:42       442     Sport\n",
       "1 2000-01-01 00:10:51       351  Sleeping\n",
       "2 2000-01-01 00:11:42       449     Bored\n",
       "3 2000-01-01 01:22:34       377  Sleeping\n",
       "4 2000-01-01 01:32:01       361      Sick"
      ]
     },
     "execution_count": 4,
     "metadata": {},
     "output_type": "execute_result"
    }
   ],
   "source": [
    "df.head()"
   ]
  },
  {
   "cell_type": "code",
   "execution_count": null,
   "metadata": {},
   "outputs": [],
   "source": []
  }
 ],
 "metadata": {
  "kernelspec": {
   "display_name": "Python 3",
   "language": "python",
   "name": "python3"
  },
  "language_info": {
   "codemirror_mode": {
    "name": "ipython",
    "version": 3
   },
   "file_extension": ".py",
   "mimetype": "text/x-python",
   "name": "python",
   "nbconvert_exporter": "python",
   "pygments_lexer": "ipython3",
   "version": "3.9.13"
  },
  "orig_nbformat": 4
 },
 "nbformat": 4,
 "nbformat_minor": 2
}
